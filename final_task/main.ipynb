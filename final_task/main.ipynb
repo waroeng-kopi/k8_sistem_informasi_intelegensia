{
 "cells": [
  {
   "cell_type": "markdown",
   "id": "05bb4c21",
   "metadata": {},
   "source": [
    "aaa"
   ]
  }
 ],
 "metadata": {
  "language_info": {
   "name": "python"
  }
 },
 "nbformat": 4,
 "nbformat_minor": 5
}
